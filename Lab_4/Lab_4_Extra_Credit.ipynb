{
  "nbformat": 4,
  "nbformat_minor": 0,
  "metadata": {
    "colab": {
      "provenance": [],
      "include_colab_link": true
    },
    "kernelspec": {
      "name": "python3",
      "display_name": "Python 3"
    },
    "language_info": {
      "name": "python"
    }
  },
  "cells": [
    {
      "cell_type": "markdown",
      "metadata": {
        "id": "view-in-github",
        "colab_type": "text"
      },
      "source": [
        "<a href=\"https://colab.research.google.com/github/Juanrl2/CPSC-541/blob/main/Lab_4/Lab_4_Extra_Credit.ipynb\" target=\"_parent\"><img src=\"https://colab.research.google.com/assets/colab-badge.svg\" alt=\"Open In Colab\"/></a>"
      ]
    },
    {
      "cell_type": "markdown",
      "source": [
        "# Extra Credit Exercise: Multiple Regression with Matrix Operations\n",
        "\n",
        "This exercise will guide you through performing multiple regression using matrix operations. Some parts of the code have been left incomplete for you to fill in.\n",
        "\n",
        "## Problem Setup\n",
        "\n",
        "You have three predictors (X1, X2, X3) and one response variable (Y). Your goal is to fit a linear model of the form:\n",
        "\n",
        "$$\n",
        "Y = \\beta_0 + \\beta_1 X_1 + \\beta_2 X_2 + \\beta_3 X_3 + \\epsilon\n",
        "$$\n",
        "\n",
        "Using the normal equation:\n",
        "\n",
        "$$\n",
        "\\mathbf{\\beta} = (\\mathbf{X}^\\top \\mathbf{X})^{-1} \\mathbf{X}^\\top \\mathbf{Y}\n",
        "$$\n",
        "\n",
        "## Step 1: Define Data\n",
        "We will simulate a small dataset with 5 observations for two predictors (X1, X2) and the response variable (Y).\n",
        "\n"
      ],
      "metadata": {
        "id": "VWYrAWqGlxnD"
      }
    },
    {
      "cell_type": "markdown",
      "source": [
        "# Instructions\n",
        "## Fill in the blanks in the code below to complete the steps.\n",
        "\n",
        "## Step 1: Define Data\n",
        "## We will use the following simulated data with 5 observations:\n",
        "\n",
        "X1 = [2,4,6,8,10,12,14]\n",
        "X2 = [3,7,2,9,5,13,6]\n",
        "X3 = [1,4,8,6,2,11,9]\n",
        "Y = [20,30,25,45,40,50,60]"
      ],
      "metadata": {
        "id": "-VgPAltjpNlJ"
      }
    },
    {
      "cell_type": "code",
      "source": [
        "import numpy as np\n",
        "\n",
        "# Simulated data for two predictors (X1, X2) and one response (Y)\n",
        "# Fill in the missing code below\n",
        "X1 = np.array([2,4,6,8,10,12,14])  # Fill in the data for X1\n",
        "X2 = np.array([3,7,2,9,5,13,6])  # Fill in the data for X2\n",
        "X3 =np.array([1,4,8,6,2,11,9])\n",
        "Y = np.array([20,30,25,45,40,50,60])   # Fill in the data for Y\n",
        "\n",
        "# Display the data\n",
        "print(\"X1:\", X1)\n",
        "print(\"X2:\", X2)\n",
        "print(\"X3:\", X3)\n",
        "print(\"Y:\", Y)"
      ],
      "metadata": {
        "colab": {
          "base_uri": "https://localhost:8080/"
        },
        "id": "Tf-OqQXkly-v",
        "outputId": "33cbcfa2-f7b6-4108-991d-4448d46f125f"
      },
      "execution_count": 10,
      "outputs": [
        {
          "output_type": "stream",
          "name": "stdout",
          "text": [
            "X1: [ 2  4  6  8 10 12 14]\n",
            "X2: [ 3  7  2  9  5 13  6]\n",
            "X3: [ 1  4  8  6  2 11  9]\n",
            "Y: [20 30 25 45 40 50 60]\n"
          ]
        }
      ]
    },
    {
      "cell_type": "markdown",
      "source": [
        "#Step 2: Construct the Design Matrix"
      ],
      "metadata": {
        "id": "avE64FQdl5e7"
      }
    },
    {
      "cell_type": "code",
      "source": [
        "# Construct the design matrix X (with an intercept column of ones)\n",
        "x =np.array([1,1,1,1,1,1,1])\n",
        "X = np.column_stack((x, X1, X2, X3))  # Fill in the missing code\n",
        "\n",
        "# Display the design matrix\n",
        "print(\"Design Matrix (X):\")\n",
        "print(X)\n"
      ],
      "metadata": {
        "colab": {
          "base_uri": "https://localhost:8080/"
        },
        "id": "cIWPswYel8s4",
        "outputId": "1b4abaed-4199-4172-c3ed-b42bb2c8c9ef"
      },
      "execution_count": 12,
      "outputs": [
        {
          "output_type": "stream",
          "name": "stdout",
          "text": [
            "Design Matrix (X):\n",
            "[[ 1  2  3  1]\n",
            " [ 1  4  7  4]\n",
            " [ 1  6  2  8]\n",
            " [ 1  8  9  6]\n",
            " [ 1 10  5  2]\n",
            " [ 1 12 13 11]\n",
            " [ 1 14  6  9]]\n"
          ]
        }
      ]
    },
    {
      "cell_type": "markdown",
      "source": [],
      "metadata": {
        "id": "2hqvvmpkmADE"
      }
    },
    {
      "cell_type": "markdown",
      "source": [
        "#Step 3: Solve the Normal Equation"
      ],
      "metadata": {
        "id": "7lEhWvG-mA5t"
      }
    },
    {
      "cell_type": "code",
      "source": [
        "# Compute the normal equation: beta = (X^T X)^(-1) X^T Y\n",
        "\n",
        "# Compute X^T X\n",
        "X_transpose_X = np.dot(X.T, X)  # Fill in the missing code\n",
        "\n",
        "# Compute (X^T X)^(-1)\n",
        "X_transpose_X_inv = np.linalg.inv(X_transpose_X)\n",
        "\n",
        "# Compute X^T Y\n",
        "X_transpose_Y = np.dot(X.T, Y)  # Fill in the missing code\n",
        "\n",
        "# Calculate beta (the coefficients)\n",
        "beta = np.dot(X_transpose_X_inv, X_transpose_Y)\n",
        "\n",
        "# Display the coefficients\n",
        "print(\"Coefficients (Intercept, beta_1, beta_2, beta_3):\", beta)"
      ],
      "metadata": {
        "colab": {
          "base_uri": "https://localhost:8080/"
        },
        "id": "_BxYyactmDGY",
        "outputId": "02681058-11bf-4353-af25-bb5404ed1f20"
      },
      "execution_count": 13,
      "outputs": [
        {
          "output_type": "stream",
          "name": "stdout",
          "text": [
            "Coefficients (Intercept, beta_1, beta_2, beta_3): [11.39825025  2.95118736  0.87541748 -0.35239099]\n"
          ]
        }
      ]
    },
    {
      "cell_type": "markdown",
      "source": [
        "#Step 4: Predict the Response Values"
      ],
      "metadata": {
        "id": "T8UVTZI9mE8q"
      }
    },
    {
      "cell_type": "code",
      "source": [
        "# Use the coefficients to predict Y\n",
        "Y_pred = np.dot(X, beta)  # Fill in the missing code\n",
        "\n",
        "print(\"Predicted Y:\", Y_pred)\n",
        "print(\"Actual Y:\", Y)"
      ],
      "metadata": {
        "colab": {
          "base_uri": "https://localhost:8080/"
        },
        "id": "NJJK2SW0mHEg",
        "outputId": "c2d17b86-6d80-41d5-c847-29b5127a3e23"
      },
      "execution_count": 14,
      "outputs": [
        {
          "output_type": "stream",
          "name": "stdout",
          "text": [
            "Predicted Y: [19.57448643 27.92135811 28.03708145 40.77216053 44.58242927 54.31662495\n",
            " 54.79585926]\n",
            "Actual Y: [20 30 25 45 40 50 60]\n"
          ]
        }
      ]
    },
    {
      "cell_type": "markdown",
      "source": [
        "#Step 5: Calculate Residuals\n",
        "Calculate the residuals between the actual and predicted values."
      ],
      "metadata": {
        "id": "pqgr97dJphU5"
      }
    },
    {
      "cell_type": "code",
      "source": [
        "# Calculate the residuals (errors)\n",
        "residuals = Y-Y_pred  # Fill in the missing code\n",
        "print(\"Residuals (errors):\", residuals)"
      ],
      "metadata": {
        "colab": {
          "base_uri": "https://localhost:8080/"
        },
        "id": "tYJ4gnZEpjd6",
        "outputId": "190210c8-6193-4e5d-ca8a-bd3a7f460afe"
      },
      "execution_count": 16,
      "outputs": [
        {
          "output_type": "stream",
          "name": "stdout",
          "text": [
            "Residuals (errors): [ 0.42551357  2.07864189 -3.03708145  4.22783947 -4.58242927 -4.31662495\n",
            "  5.20414074]\n"
          ]
        }
      ]
    }
  ]
}